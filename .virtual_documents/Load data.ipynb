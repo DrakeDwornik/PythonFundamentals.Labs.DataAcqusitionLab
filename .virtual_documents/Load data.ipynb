import urllib
import json
import requests
from IPython.display import JSON



get_ipython().run_line_magic("config", " Completer.use_jedi = False")


limit = 10
offset = 100000


url = f"https://www.ncdc.noaa.gov/cdo-web/api/v2/locations/?limit={limit}&offset={offset}"


data_exists = True


data_exists = True
limit = 1000
offset = 1
file_no = 0
hdr = {"Accept": "*/*", "Accept-Encoding": "gzip, deflate, br", "Connection": "keep-alive", "token": "oebeUQMqFfjWpaiLWLxheFizGqkQDhOw", "Content": "application/json"}
while data_exists:
    url = f"https://www.ncdc.noaa.gov/cdo-web/api/v2/locations/?limit={limit}&offset={offset}"
    req = urllib.request.Request(url, headers = hdr)
    response = urllib.request.urlopen(req)
    json_data = json.loads(response.read())
    if json_data != {}:
        with open(f"locations_{file_no}.json", "w") as file:
            json.dump(json_data, file)
        offset += 1000
        file_no += 1
    else:
        data_exists = False
    



with open("locations_01.json") as file:
    temp = json.load(file)


type(temp)


from IPython.display import JSON
JSON(temp)



